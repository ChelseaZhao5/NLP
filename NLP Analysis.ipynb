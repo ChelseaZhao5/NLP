{
 "cells": [
  {
   "cell_type": "markdown",
   "metadata": {},
   "source": [
    "#  Sentiment Analysis via the ML-based approach\n"
   ]
  },
  {
   "cell_type": "code",
   "execution_count": 1,
   "metadata": {},
   "outputs": [],
   "source": [
    "#Importing the libraries needed\n",
    "import pandas as pd\n",
    "import numpy as np\n",
    "\n",
    "import matplotlib\n",
    "import matplotlib.pyplot as plt\n",
    "import seaborn as sns \n",
    "\n",
    "import re\n",
    "import string\n",
    "import unicodedata\n",
    "import textstat\n",
    "import unidecode\n",
    "\n",
    "import nltk\n",
    "from nltk.corpus import stopwords\n",
    "from nltk import word_tokenize\n",
    "from nltk import sent_tokenize\n",
    "from nltk.stem import LancasterStemmer, WordNetLemmatizer\n",
    "\n",
    "from sklearn.feature_extraction.text import CountVectorizer\n",
    "from sklearn.feature_extraction.text import TfidfVectorizer\n",
    "from sklearn.feature_extraction.text import TfidfTransformer\n",
    "\n",
    "\n",
    "from bs4 import BeautifulSoup\n",
    "\n",
    "from sklearn.pipeline import Pipeline, FeatureUnion\n",
    "from sklearn.compose import ColumnTransformer\n",
    "from sklearn.tree import DecisionTreeClassifier\n",
    "from sklearn.ensemble import RandomForestClassifier\n",
    "from xgboost import XGBClassifier\n",
    "from sklearn.preprocessing import StandardScaler, FunctionTransformer\n",
    "from sklearn.feature_selection import RFE\n",
    "from sklearn.model_selection import GridSearchCV\n",
    "\n",
    "from sklearn.metrics import confusion_matrix\n",
    "from sklearn.metrics import classification_report, f1_score\n",
    "from sklearn.metrics import roc_auc_score\n",
    "\n",
    "import os\n",
    "\n",
    "from IPython.core.interactiveshell import InteractiveShell\n",
    "InteractiveShell.ast_node_interactivity = \"all\"\n",
    "\n",
    "import warnings; warnings.simplefilter('ignore')"
   ]
  },
  {
   "cell_type": "code",
   "execution_count": 2,
   "metadata": {},
   "outputs": [
    {
     "name": "stdout",
     "output_type": "stream",
     "text": [
      "<class 'pandas.core.frame.DataFrame'>\n",
      "RangeIndex: 2400 entries, 0 to 2399\n",
      "Data columns (total 2 columns):\n",
      " #   Column    Non-Null Count  Dtype \n",
      "---  ------    --------------  ----- \n",
      " 0   Sentence  2400 non-null   object\n",
      " 1   Polarity  2400 non-null   int64 \n",
      "dtypes: int64(1), object(1)\n",
      "memory usage: 37.6+ KB\n",
      "None\n",
      "                                    Sentence  Polarity\n",
      "0                   Wow... Loved this place.         1\n",
      "1                         Crust is not good.         0\n",
      "2  Not tasty and the texture was just nasty.         0\n",
      "<class 'pandas.core.frame.DataFrame'>\n",
      "RangeIndex: 2400 entries, 0 to 2399\n",
      "Data columns (total 2 columns):\n",
      " #   Column    Non-Null Count  Dtype \n",
      "---  ------    --------------  ----- \n",
      " 0   Sentence  2400 non-null   object\n",
      " 1   Polarity  2400 non-null   int64 \n",
      "dtypes: int64(1), object(1)\n",
      "memory usage: 37.6+ KB\n",
      "None\n",
      "                                    Sentence  Polarity\n",
      "0                   Wow... Loved this place.         1\n",
      "1                         Crust is not good.         0\n",
      "2  Not tasty and the texture was just nasty.         0\n"
     ]
    }
   ],
   "source": [
    "#importing the training and test datasetses\n",
    "#check the number of instances in each dataset and check if there are missing valu\n",
    "\n",
    "df_train = pd.read_csv(\"sentiment_train.csv\")\n",
    "print(df_train.info())\n",
    "print(df_train.head(3))\n",
    "\n",
    "df_test = pd.read_csv(\"sentiment_test.csv\")\n",
    "print(df_train.info())\n",
    "print(df_train.head(3))\n"
   ]
  },
  {
   "cell_type": "code",
   "execution_count": 3,
   "metadata": {},
   "outputs": [
    {
     "data": {
      "text/plain": [
       "<AxesSubplot:xlabel='Polarity', ylabel='count'>"
      ]
     },
     "execution_count": 3,
     "metadata": {},
     "output_type": "execute_result"
    },
    {
     "data": {
      "image/png": "[encoded data removed]",
      "text/plain": [
       "<Figure size 432x288 with 1 Axes>"
      ]
     },
     "metadata": {
      "needs_background": "light"
     },
     "output_type": "display_data"
    }
   ],
   "source": [
    "#the countplot implies that the training dataset is not imbalanced \n",
    "sns.countplot(df_train['Polarity'])"
   ]
  },
  {
   "cell_type": "code",
   "execution_count": 4,
   "metadata": {},
   "outputs": [
    {
     "data": {
      "text/plain": [
       "<AxesSubplot:xlabel='Polarity', ylabel='count'>"
      ]
     },
     "execution_count": 4,
     "metadata": {},
     "output_type": "execute_result"
    },
    {
     "data": {
      "image/png": "[encoded data removed]",
      "text/plain": [
       "<Figure size 432x288 with 1 Axes>"
      ]
     },
     "metadata": {
      "needs_background": "light"
     },
     "output_type": "display_data"
    }
   ],
   "source": [
    "#the countplot implies that the testing dataset is not imbalanced \n",
    "sns.countplot(df_test['Polarity'])"
   ]
  },
  {
   "cell_type": "markdown",
   "metadata": {},
   "source": [
    "### Part 1.b. Modeling\n"
   ]
  },
  {
   "cell_type": "code",
   "execution_count": 5,
   "metadata": {},
   "outputs": [],
   "source": [
    "# To extract features out from the training and testing datasets\n",
    "# Transformed them to datasets for future procedure\n",
    "X_train = df_train['Sentence'].to_frame()\n",
    "X_test = df_test['Sentence'].to_frame()\n",
    "\n",
    "## To extract labels out from the training and testing datasets\n",
    "y_train = df_train['Polarity']\n",
    "y_test = df_test['Polarity']"
   ]
  },
  {
   "cell_type": "code",
   "execution_count": 6,
   "metadata": {},
   "outputs": [],
   "source": [
    "#Since the dataset has only one feature, which is text, I mainly tested to use some of the NLP techiniques to transform this feature."
   ]
  },
  {
   "cell_type": "code",
   "execution_count": 7,
   "metadata": {},
   "outputs": [],
   "source": [
    "# To build a process function to transform the text feature, including make all words lowercase, as well as remove URL, punctuation, numbers and lemmatize words.\n",
    "\n",
    "#After testing a few machine learning models, it was observed that remove stopwords will not imporve model performances, thus stopwords were not removed on purpose.\n",
    "\n",
    "lemmer = WordNetLemmatizer()\n",
    "\n",
    "def my_preprocess(doc):\n",
    "    \n",
    "    # Lowercase\n",
    "    doc = doc.lower()\n",
    "    \n",
    "    # Remove URLs\n",
    "    doc = re.sub(r'http\\S+', '', doc)\n",
    "    \n",
    "    #Remove punctuation\n",
    "    doc = re.sub(r'[^\\w\\s]', '', doc)\n",
    "    \n",
    "    #Remove numbers \n",
    "    doc = re.sub(r'\\d+', '', doc)\n",
    "    \n",
    "    # lemmatize\n",
    "    doc = [lemmer.lemmatize(w) for w in doc.split()]\n",
    "    \n",
    "    return ' '.join(doc) "
   ]
  },
  {
   "cell_type": "code",
   "execution_count": 8,
   "metadata": {},
   "outputs": [],
   "source": [
    "#To set up functions to perform TF-IDF on the text feature\n",
    "\n",
    "vectorizer = TfidfVectorizer(preprocessor=my_preprocess,\n",
    "                             max_df = 0.9, \n",
    "                             min_df=0.01, \n",
    "                             max_features = 1000, \n",
    "                             ngram_range=[1,3])\n",
    "text_feature = 'Sentence'\n",
    "drop_features = ['Sentence']\n",
    "\n",
    "def fit_features(df):\n",
    "  global dtm\n",
    "  dtm = vectorizer.fit(df[text_feature])\n",
    "\n",
    "  return\n",
    "\n",
    "def transform_features(df):\n",
    "  global dtm\n",
    " \n",
    "  if dtm is None:\n",
    "    print(\"Need to call fit_features first!\")\n",
    "    return\n",
    "\n",
    "  dtm = vectorizer.transform(df[text_feature])\n",
    "\n",
    "  features = pd.DataFrame(dtm.toarray(), \n",
    "                      columns=['bow_{:s}'.format(name) for name in \n",
    "                               vectorizer.get_feature_names()], \n",
    "                      index=df.index)\n",
    "  \n",
    "  passthrough_features = [c for c in df.columns if c not in drop_features]\n",
    "  \n",
    "  features[passthrough_features] = df[passthrough_features]\n",
    "\n",
    "  features['len'] = df['Sentence'].apply(lambda x: len(x))\n",
    "  features['syllable_count'] = df['Sentence'].apply(\n",
    "        lambda x: textstat.syllable_count(x))\n",
    "  features['flesch_reading_ease'] = df['Sentence'].apply(\n",
    "      lambda x: textstat.flesch_reading_ease(x))\n",
    "  \n",
    "  return features"
   ]
  },
  {
   "cell_type": "code",
   "execution_count": 9,
   "metadata": {},
   "outputs": [],
   "source": [
    "# To use the training text feature to fit the TF-IDF function,then use the fitted function to transfer the training text feature and testing feature.\n",
    "# Transformed training text features will be used to train the model, and transformed testing text features will be used to access model performance.\n",
    "\n",
    "fit_features(X_train)\n",
    "X_train_features = transform_features(X_train)\n",
    "X_test_features = transform_features(X_test)"
   ]
  },
  {
   "cell_type": "code",
   "execution_count": 10,
   "metadata": {},
   "outputs": [
    {
     "data": {
      "text/plain": [
       "XGBClassifier(base_score=0.5, booster=None, colsample_bylevel=1,\n",
       "              colsample_bynode=1, colsample_bytree=1, gamma=0, gpu_id=-1,\n",
       "              importance_type='gain', interaction_constraints=None,\n",
       "              learning_rate=0.300000012, max_delta_step=0, max_depth=3,\n",
       "              min_child_weight=1, missing=nan, monotone_constraints=None,\n",
       "              n_estimators=100, n_jobs=0, num_parallel_tree=1, random_state=0,\n",
       "              reg_alpha=0, reg_lambda=1, scale_pos_weight=1, subsample=1,\n",
       "              tree_method=None, validate_parameters=False, verbosity=None)"
      ]
     },
     "execution_count": 10,
     "metadata": {},
     "output_type": "execute_result"
    },
    {
     "name": "stdout",
     "output_type": "stream",
     "text": [
      "AUC = 0.65557\n"
     ]
    }
   ],
   "source": [
    "# Tested decision tree, random forest, KNN and XGBoost models and it turns out XGBoost has the best proformance\n",
    "\n",
    "clf_xg = XGBClassifier(n_estimators=100, max_depth=3)\n",
    "\n",
    "clf_xg.fit(X_train_features, y_train)\n",
    "\n",
    "y_pred_xg = clf_xg.predict(X_test_features)\n",
    "\n",
    "print(\"AUC = {:.5f}\".format(roc_auc_score(y_test, y_pred_xg)))\n"
   ]
  },
  {
   "cell_type": "code",
   "execution_count": 11,
   "metadata": {},
   "outputs": [
    {
     "name": "stdout",
     "output_type": "stream",
     "text": [
      "CPU times: user 2h 2min 26s, sys: 35.3 s, total: 2h 3min 1s\n",
      "Wall time: 33min 4s\n"
     ]
    },
    {
     "data": {
      "text/plain": [
       "GridSearchCV(cv=5,\n",
       "             estimator=XGBClassifier(base_score=None, booster=None,\n",
       "                                     colsample_bylevel=None,\n",
       "                                     colsample_bynode=None,\n",
       "                                     colsample_bytree=None, gamma=None,\n",
       "                                     gpu_id=None, importance_type='gain',\n",
       "                                     interaction_constraints=None,\n",
       "                                     learning_rate=None, max_delta_step=None,\n",
       "                                     max_depth=None, min_child_weight=None,\n",
       "                                     missing=nan, monotone_constraints=None,\n",
       "                                     n_estimators=100, n_jobs...\n",
       "                                     num_parallel_tree=None, random_state=None,\n",
       "                                     reg_alpha=None, reg_lambda=None,\n",
       "                                     scale_pos_weight=None, subsample=None,\n",
       "                                     tree_method=None,\n",
       "                                     validate_parameters=False,\n",
       "                                     verbosity=None),\n",
       "             param_grid={'colsample_bytree': [0.6, 0.8, 1.0],\n",
       "                         'gamma': [0.5, 1, 1.5, 2, 5], 'max_depth': [1, 10, 20],\n",
       "                         'min_child_weight': [1, 5, 10],\n",
       "                         'subsample': [0.6, 0.8, 1.0]},\n",
       "             return_train_score=True, scoring='roc_auc')"
      ]
     },
     "execution_count": 11,
     "metadata": {},
     "output_type": "execute_result"
    }
   ],
   "source": [
    "#Conduct Grid Sarch on XGBoost model to get hyperparameters that will build a better model\n",
    "xg = XGBClassifier()\n",
    "\n",
    "params = {'min_child_weight': [1, 5, 10],'gamma': [0.5, 1, 1.5, 2, 5],'subsample': [0.6, 0.8, 1.0],\n",
    "      'colsample_bytree': [0.6, 0.8, 1.0], 'max_depth': [3, 4, 5], 'max_depth': [1, 10, 20]}\n",
    "\n",
    "gridsearch = GridSearchCV(xg, params, scoring='roc_auc', cv=5, return_train_score=True)\n",
    "\n",
    "%time gridsearch.fit(X_train_features, y_train)"
   ]
  },
  {
   "cell_type": "code",
   "execution_count": 12,
   "metadata": {},
   "outputs": [
    {
     "data": {
      "text/plain": [
       "{'colsample_bytree': 1.0,\n",
       " 'gamma': 1,\n",
       " 'max_depth': 20,\n",
       " 'min_child_weight': 1,\n",
       " 'subsample': 1.0}"
      ]
     },
     "execution_count": 12,
     "metadata": {},
     "output_type": "execute_result"
    },
    {
     "data": {
      "text/plain": [
       "0.804922689866945"
      ]
     },
     "execution_count": 12,
     "metadata": {},
     "output_type": "execute_result"
    },
    {
     "data": {
      "text/plain": [
       "XGBClassifier(base_score=0.5, booster=None, colsample_bylevel=1,\n",
       "              colsample_bynode=1, colsample_bytree=1.0, gamma=1, gpu_id=-1,\n",
       "              importance_type='gain', interaction_constraints=None,\n",
       "              learning_rate=0.300000012, max_delta_step=0, max_depth=20,\n",
       "              min_child_weight=1, missing=nan, monotone_constraints=None,\n",
       "              n_estimators=100, n_jobs=0, num_parallel_tree=1, random_state=0,\n",
       "              reg_alpha=0, reg_lambda=1, scale_pos_weight=1, subsample=1.0,\n",
       "              tree_method=None, validate_parameters=False, verbosity=None)"
      ]
     },
     "execution_count": 12,
     "metadata": {},
     "output_type": "execute_result"
    }
   ],
   "source": [
    "#get the best hypermeters from the hyperparameter tunning \n",
    "gridsearch.best_params_\n",
    "gridsearch.best_score_\n",
    "gridsearch.best_estimator_"
   ]
  },
  {
   "cell_type": "code",
   "execution_count": 13,
   "metadata": {},
   "outputs": [
    {
     "data": {
      "text/plain": [
       "XGBClassifier(base_score=0.5, booster=None, colsample_bylevel=1,\n",
       "              colsample_bynode=1, colsample_bytree=1.0, gamma=1, gpu_id=-1,\n",
       "              importance_type='gain', interaction_constraints=None,\n",
       "              learning_rate=0.300000012, max_delta_step=0, max_depth=20,\n",
       "              min_child_weight=1, missing=nan, monotone_constraints=None,\n",
       "              n_estimators=100, n_jobs=0, num_parallel_tree=1, random_state=0,\n",
       "              reg_alpha=0, reg_lambda=1, scale_pos_weight=1, subsample=1,\n",
       "              tree_method=None, validate_parameters=False, verbosity=None)"
      ]
     },
     "execution_count": 13,
     "metadata": {},
     "output_type": "execute_result"
    },
    {
     "name": "stdout",
     "output_type": "stream",
     "text": [
      "AUC = 0.64410\n"
     ]
    }
   ],
   "source": [
    "#Re-run the XGBoost model with hyperparameters from the hypermeters tunning process \n",
    "#Compute the AUC score to compare with the previous model and it turns out that grid search hyperparameter tunning didn't improve model proformance\n",
    "\n",
    "clf_xg2 = XGBClassifier(colsample_bytree =1.0, gamma =1, max_depth=20, min_child_weight=1,subsample=1)\n",
    "\n",
    "\n",
    "clf_xg2.fit(X_train_features, y_train)\n",
    "\n",
    "y_pred_xg2 = clf_xg2.predict(X_test_features)\n",
    "\n",
    "\n",
    "print(\"AUC = {:.5f}\".format(roc_auc_score(y_test, y_pred_xg2)))\n",
    "\n"
   ]
  },
  {
   "cell_type": "markdown",
   "metadata": {},
   "source": [
    "### Part 1.c. Assessing\n",
    "\n",
    "Use the testing data to measure the accuracy and F1-score.  "
   ]
  },
  {
   "cell_type": "code",
   "execution_count": 14,
   "metadata": {
    "scrolled": true
   },
   "outputs": [
    {
     "name": "stdout",
     "output_type": "stream",
     "text": [
      "Confusion matrix:\n",
      "[[214  73]\n",
      " [136 177]]\n",
      "\n",
      "F1 Micro Score = 0.65167\n",
      "\n",
      "F1 Macro Score = 0.65034\n",
      "\n",
      "Classification Report:\n",
      "              precision    recall  f1-score   support\n",
      "\n",
      "           0       0.61      0.75      0.67       287\n",
      "           1       0.71      0.57      0.63       313\n",
      "\n",
      "    accuracy                           0.65       600\n",
      "   macro avg       0.66      0.66      0.65       600\n",
      "weighted avg       0.66      0.65      0.65       600\n",
      "\n",
      "AUC = 0.65557\n"
     ]
    }
   ],
   "source": [
    "y_pred_xg = clf_xg.predict(X_test_features)\n",
    "\n",
    "print(\"Confusion matrix:\")\n",
    "print(confusion_matrix(y_test, y_pred_xg))\n",
    "\n",
    "print(\"\\nF1 Micro Score = {:.5f}\".format(f1_score(y_test, y_pred_xg, average=\"micro\")))\n",
    "print(\"\\nF1 Macro Score = {:.5f}\".format(f1_score(y_test, y_pred_xg, average=\"macro\")))\n",
    "\n",
    "print(\"\\nClassification Report:\")\n",
    "print(classification_report(y_test, y_pred_xg))\n",
    "\n",
    "print(\"AUC = {:.5f}\".format(roc_auc_score(y_test, y_pred_xg)))\n"
   ]
  },
  {
   "cell_type": "markdown",
   "metadata": {},
   "source": [
    "### Part 3. Show five example instances in which your model’s predictions were incorrect. Describe why you think the model was wrong."
   ]
  },
  {
   "cell_type": "code",
   "execution_count": 15,
   "metadata": {},
   "outputs": [
    {
     "data": {
      "text/html": [
       "<div>\n",
       "<style scoped>\n",
       "    .dataframe tbody tr th:only-of-type {\n",
       "        vertical-align: middle;\n",
       "    }\n",
       "\n",
       "    .dataframe tbody tr th {\n",
       "        vertical-align: top;\n",
       "    }\n",
       "\n",
       "    .dataframe thead th {\n",
       "        text-align: right;\n",
       "    }\n",
       "</style>\n",
       "<table border=\"1\" class=\"dataframe\">\n",
       "  <thead>\n",
       "    <tr style=\"text-align: right;\">\n",
       "      <th></th>\n",
       "      <th>Sentence</th>\n",
       "      <th>Polarity</th>\n",
       "      <th>Predict</th>\n",
       "      <th>Sentence_processed</th>\n",
       "    </tr>\n",
       "  </thead>\n",
       "  <tbody>\n",
       "    <tr>\n",
       "      <th>4</th>\n",
       "      <td>It has northern humour and positive about the community it represents.</td>\n",
       "      <td>1</td>\n",
       "      <td>0</td>\n",
       "      <td>it ha northern humour and positive about the community it represents</td>\n",
       "    </tr>\n",
       "    <tr>\n",
       "      <th>5</th>\n",
       "      <td>I rather enjoyed it.</td>\n",
       "      <td>1</td>\n",
       "      <td>0</td>\n",
       "      <td>i rather enjoyed it</td>\n",
       "    </tr>\n",
       "    <tr>\n",
       "      <th>6</th>\n",
       "      <td>I liked it.</td>\n",
       "      <td>1</td>\n",
       "      <td>0</td>\n",
       "      <td>i liked it</td>\n",
       "    </tr>\n",
       "    <tr>\n",
       "      <th>8</th>\n",
       "      <td>It really created a unique feeling though.</td>\n",
       "      <td>1</td>\n",
       "      <td>0</td>\n",
       "      <td>it really created a unique feeling though</td>\n",
       "    </tr>\n",
       "    <tr>\n",
       "      <th>10</th>\n",
       "      <td>A world better than 95% of the garbage in the theatres today.</td>\n",
       "      <td>1</td>\n",
       "      <td>0</td>\n",
       "      <td>a world better than of the garbage in the theatre today</td>\n",
       "    </tr>\n",
       "  </tbody>\n",
       "</table>\n",
       "</div>"
      ],
      "text/plain": [
       "                                                                    Sentence  \\\n",
       "4   It has northern humour and positive about the community it represents.     \n",
       "5   I rather enjoyed it.                                                       \n",
       "6   I liked it.                                                                \n",
       "8   It really created a unique feeling though.                                 \n",
       "10  A world better than 95% of the garbage in the theatres today.              \n",
       "\n",
       "    Polarity  Predict  \\\n",
       "4   1         0         \n",
       "5   1         0         \n",
       "6   1         0         \n",
       "8   1         0         \n",
       "10  1         0         \n",
       "\n",
       "                                                      Sentence_processed  \n",
       "4   it ha northern humour and positive about the community it represents  \n",
       "5   i rather enjoyed it                                                   \n",
       "6   i liked it                                                            \n",
       "8   it really created a unique feeling though                             \n",
       "10  a world better than of the garbage in the theatre today               "
      ]
     },
     "execution_count": 15,
     "metadata": {},
     "output_type": "execute_result"
    }
   ],
   "source": [
    "#Five of the wrong predictions are listed below:\n",
    "\n",
    "pd.set_option('display.max_colwidth', -1)\n",
    "df_test['Predict'] = y_pred_xg\n",
    "df_test['Sentence_processed'] = df_test['Sentence'].apply(my_preprocess)\n",
    "df_test[df_test['Predict'] != df_test['Polarity']].head(5)"
   ]
  },
  {
   "cell_type": "markdown",
   "metadata": {},
   "source": [
    "#### Potential Reasons of Incorrect Predictions\n",
    "\n",
    "The first five wrong predictions are listed above in line 15. Comparing with the first ten correct predictions, which are listed below in line 16, one of the patterns can be observed is that the incorrectly predicted instances are more likely to have a general 'Sentence\". For example, sentences of \"I liked it\" and \"I enjoyed it\" are like high-level summary, they are only stating whether or not the movie is good without much explanation. Differently, the correctly predicted instances are more likely to include some explanations in the sentences, such as the role was played well, or the scripts were written well. Having more explanations can give the machine learning model more inputs to assess and predict. \n",
    "\n",
    "The other reasons might be that the training dataset and testing dataset are having different set of commonly used words. As presented in line 18 and line 19, the top-ten frequently used words in training dataset are “good”, “great” “phone”, “food”, “place”, “service”, “time”, “work”, “one”, and “like”; whereas the top-ten frequently used words in testing dataset are “film”, “movie” “one”, “bad”, “like”, “character”, “good”, “time”, “acting”, and “great”. Five words appear in both training and testing datasets when looking at top-ten frequently used words. Moreover, no word appears in both testing and training datasets when looking at top-five frequently used words. This situation could lead to that the model is performing well on training dataset but not performing well on testing dataset.  \n",
    "\n",
    "\n",
    "\n",
    "\n",
    "\n"
   ]
  },
  {
   "cell_type": "markdown",
   "metadata": {},
   "source": [
    "#### Supporting code and outputs for Part 3"
   ]
  },
  {
   "cell_type": "code",
   "execution_count": 16,
   "metadata": {},
   "outputs": [
    {
     "data": {
      "text/html": [
       "<div>\n",
       "<style scoped>\n",
       "    .dataframe tbody tr th:only-of-type {\n",
       "        vertical-align: middle;\n",
       "    }\n",
       "\n",
       "    .dataframe tbody tr th {\n",
       "        vertical-align: top;\n",
       "    }\n",
       "\n",
       "    .dataframe thead th {\n",
       "        text-align: right;\n",
       "    }\n",
       "</style>\n",
       "<table border=\"1\" class=\"dataframe\">\n",
       "  <thead>\n",
       "    <tr style=\"text-align: right;\">\n",
       "      <th></th>\n",
       "      <th>Sentence</th>\n",
       "      <th>Polarity</th>\n",
       "      <th>Predict</th>\n",
       "      <th>Sentence_processed</th>\n",
       "    </tr>\n",
       "  </thead>\n",
       "  <tbody>\n",
       "    <tr>\n",
       "      <th>0</th>\n",
       "      <td>A good commentary of today's love and undoubtedly a film worth seeing.</td>\n",
       "      <td>1</td>\n",
       "      <td>1</td>\n",
       "      <td>a good commentary of today love and undoubtedly a film worth seeing</td>\n",
       "    </tr>\n",
       "    <tr>\n",
       "      <th>1</th>\n",
       "      <td>For people who are first timers in film making, I think they did an excellent job!!</td>\n",
       "      <td>1</td>\n",
       "      <td>1</td>\n",
       "      <td>for people who are first timer in film making i think they did an excellent job</td>\n",
       "    </tr>\n",
       "    <tr>\n",
       "      <th>2</th>\n",
       "      <td>It was very popular when I was in the cinema, a good house and very good reactions and plenty of laughs.</td>\n",
       "      <td>1</td>\n",
       "      <td>1</td>\n",
       "      <td>it wa very popular when i wa in the cinema a good house and very good reaction and plenty of laugh</td>\n",
       "    </tr>\n",
       "    <tr>\n",
       "      <th>3</th>\n",
       "      <td>It's a feel-good film and that's how I felt when I came out of the cinema!</td>\n",
       "      <td>1</td>\n",
       "      <td>1</td>\n",
       "      <td>it a feelgood film and thats how i felt when i came out of the cinema</td>\n",
       "    </tr>\n",
       "    <tr>\n",
       "      <th>7</th>\n",
       "      <td>I couldn't take them seriously.</td>\n",
       "      <td>0</td>\n",
       "      <td>0</td>\n",
       "      <td>i couldnt take them seriously</td>\n",
       "    </tr>\n",
       "  </tbody>\n",
       "</table>\n",
       "</div>"
      ],
      "text/plain": [
       "                                                                                                     Sentence  \\\n",
       "0  A good commentary of today's love and undoubtedly a film worth seeing.                                       \n",
       "1  For people who are first timers in film making, I think they did an excellent job!!                          \n",
       "2  It was very popular when I was in the cinema, a good house and very good reactions and plenty of laughs.     \n",
       "3  It's a feel-good film and that's how I felt when I came out of the cinema!                                   \n",
       "7  I couldn't take them seriously.                                                                              \n",
       "\n",
       "   Polarity  Predict  \\\n",
       "0  1         1         \n",
       "1  1         1         \n",
       "2  1         1         \n",
       "3  1         1         \n",
       "7  0         0         \n",
       "\n",
       "                                                                                   Sentence_processed  \n",
       "0  a good commentary of today love and undoubtedly a film worth seeing                                 \n",
       "1  for people who are first timer in film making i think they did an excellent job                     \n",
       "2  it wa very popular when i wa in the cinema a good house and very good reaction and plenty of laugh  \n",
       "3  it a feelgood film and thats how i felt when i came out of the cinema                               \n",
       "7  i couldnt take them seriously                                                                       "
      ]
     },
     "execution_count": 16,
     "metadata": {},
     "output_type": "execute_result"
    }
   ],
   "source": [
    "df_test[df_test['Predict'] == df_test['Polarity']].head(5)"
   ]
  },
  {
   "cell_type": "code",
   "execution_count": 17,
   "metadata": {},
   "outputs": [],
   "source": [
    "# To develop a new preprocess function that is similiar than the previous but add removing stopwords\n",
    "\n",
    "stop_words = set(stopwords.words('english') + stopwords.words('spanish'))\n",
    "\n",
    "lemmer = WordNetLemmatizer()\n",
    "\n",
    "def preprocess2(x):\n",
    "    # Remove HTML tags\n",
    "    x = BeautifulSoup(x, \"lxml\").get_text()\n",
    "\n",
    "    # Lower case\n",
    "    x = x.lower()\n",
    "    \n",
    "    # Remove punctuation\n",
    "    x = re.sub(r'[^\\w\\s]', '', x)\n",
    "    \n",
    "    # Remove non-unicode\n",
    "    x = unidecode.unidecode(x)\n",
    "    \n",
    "    # Remove numbers\n",
    "    x = re.sub(r'\\d+', '', x)\n",
    "    \n",
    "    # Remove stopwords and lemmatize\n",
    "    x = [lemmer.lemmatize(w) for w in x.split() if w not in stop_words]\n",
    "    return ' '.join(x) \n",
    "\n",
    "train_sentence = df_train['Sentence'].apply(preprocess2)"
   ]
  },
  {
   "cell_type": "code",
   "execution_count": 18,
   "metadata": {},
   "outputs": [
    {
     "name": "stdout",
     "output_type": "stream",
     "text": [
      "CPU times: user 64.8 ms, sys: 5.71 ms, total: 70.5 ms\n",
      "Wall time: 69.6 ms\n"
     ]
    },
    {
     "data": {
      "text/plain": [
       "[('good', 194),\n",
       " ('great', 181),\n",
       " ('phone', 174),\n",
       " ('food', 124),\n",
       " ('place', 117),\n",
       " ('service', 107),\n",
       " ('time', 99),\n",
       " ('work', 98),\n",
       " ('one', 95),\n",
       " ('like', 92)]"
      ]
     },
     "execution_count": 18,
     "metadata": {},
     "output_type": "execute_result"
    }
   ],
   "source": [
    "#To present the top ten 1-grams for the training dataset\n",
    "no_features = 1000\n",
    "\n",
    "tf_vectorizer = CountVectorizer(min_df=.01, max_df=.9, max_features=no_features, ngram_range=[1,3])\n",
    "%time dtm_tf = tf_vectorizer.fit_transform(train_sentence)\n",
    "\n",
    "##Calculate column sums from DTM and sort them\n",
    "sum_words = dtm_tf.sum(axis=0) \n",
    "words_freq = [(word, sum_words[0, idx]) for word, idx in tf_vectorizer.vocabulary_.items()]\n",
    "words_freq =sorted(words_freq, key = lambda x: x[1], reverse=True)\n",
    "\n",
    "##Display top ten\n",
    "words_freq[:10]\n"
   ]
  },
  {
   "cell_type": "code",
   "execution_count": 19,
   "metadata": {},
   "outputs": [
    {
     "name": "stdout",
     "output_type": "stream",
     "text": [
      "CPU times: user 20.6 ms, sys: 231 µs, total: 20.8 ms\n",
      "Wall time: 20.8 ms\n"
     ]
    },
    {
     "data": {
      "text/plain": [
       "[('film', 124),\n",
       " ('movie', 119),\n",
       " ('one', 52),\n",
       " ('bad', 47),\n",
       " ('like', 35),\n",
       " ('character', 34),\n",
       " ('good', 33),\n",
       " ('time', 33),\n",
       " ('acting', 30),\n",
       " ('great', 26)]"
      ]
     },
     "execution_count": 19,
     "metadata": {},
     "output_type": "execute_result"
    }
   ],
   "source": [
    "#To present the top ten 1-grams for the testing dataset\n",
    "\n",
    "test_sentence = df_test['Sentence'].apply(preprocess2)\n",
    "tf_vectorizer = CountVectorizer(min_df=.01, max_df=.9, max_features=no_features, ngram_range=[1,3])\n",
    "%time dtm_tf = tf_vectorizer.fit_transform(test_sentence)\n",
    "\n",
    "##Calculate column sums from DTM and sort them\n",
    "sum_words = dtm_tf.sum(axis=0) \n",
    "words_freq = [(word, sum_words[0, idx]) for word, idx in tf_vectorizer.vocabulary_.items()]\n",
    "words_freq =sorted(words_freq, key = lambda x: x[1], reverse=True)\n",
    "\n",
    "## Display top ten\n",
    "words_freq[:10]"
   ]
  }
 ],
 "metadata": {
  "kernelspec": {
   "display_name": "Python 3",
   "language": "python",
   "name": "python3"
  },
  "language_info": {
   "codemirror_mode": {
    "name": "ipython",
    "version": 3
   },
   "file_extension": ".py",
   "mimetype": "text/x-python",
   "name": "python",
   "nbconvert_exporter": "python",
   "pygments_lexer": "ipython3",
   "version": "3.8.3"
  }
 },
 "nbformat": 4,
 "nbformat_minor": 4
}
